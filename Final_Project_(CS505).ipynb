{
  "cells": [
    {
      "cell_type": "markdown",
      "metadata": {
        "id": "UQpIYdEZsTUU"
      },
      "source": [
        "# Language Technology: An Ongoing Journey for NLP\n",
        "\n",
        "#### by Samantha Rigor — December 24, 2023 — CS505"
      ]
    },
    {
      "cell_type": "markdown",
      "metadata": {
        "id": "-HhZBhgasTUW"
      },
      "source": [
        "## Abstract\n",
        "\n",
        "In this project, I aimed to create a chatbot that would be a valuable resource to bilingual language learners that speak English and Spanish. While I initially attempted to train a ChatBot from the `chatterbot` package, I ultimately created a simplistic chatbot that takes menu options as inputs and returns different functions, such as dictionary lookup and vocabulary units. Though the chatbot has 3 functions, these functions are not fully implemented for both languages and require much more development before it could be released for practical use."
      ]
    },
    {
      "cell_type": "markdown",
      "metadata": {
        "id": "SXWvvF5lsTUW"
      },
      "source": [
        "## Background/Description\n",
        "\n",
        "Although artificial intelligence has proven itself capable of generating art, essays, and scripts, many have yet to use natural language processing to develop new language technologies. Though improving existing tools like Google Translate and ChatGPT are helpful, these agents are not the most helpful or accessible for new language learners. As the Internet continues to connect users all over the world, it becomes more imperative that knowledge is accessible to all, and giving people the opportunity to learn a new language can aid in this endeavor.\n",
        "\n",
        "Outside of my computer science degree, I also study linguistics, in which I have learned of the importance of multilingualism and the impact that language has on our society. Between learning a new language in college and trying to speak to my parents in their native language I have experienced language barriers in its many forms, and I have longed for language learning tools that are both easy to use and easy to access. As I near graduation, I look forward to a future where I can use my knowledge of computer science and linguistics to aid in the development of language technology. With the love I have for both programming and language learning, I hope that a project like this can serve as a step on the way to providing better online resources for learners all over the world."
      ]
    },
    {
      "cell_type": "markdown",
      "metadata": {
        "id": "fsbRNNjusTUX"
      },
      "source": [
        "## Method & Results\n",
        "\n",
        "Originally, I only wanted to use `chatterbot` feature, but as I played around with the package, I found that the ChatBot returned strange responses, even when I changed the training data. Thus, I reverted to a simpler chatbot with menu options to choose from.\n",
        "\n",
        "To build this chatbot, I relied heavily on the Open Multilingual Wordnet package (`wordnet` and `omw`) to go back and forth between English and Spanish. Within WordNet, there are only 4 main categories of words: nouns, verbs, adjectives, and adverbs. With that in mind, I had to make the language lessons within the ChatBot simple enough for language learners to understand as well as simple enough for WordNet to have an entry.\n",
        "\n",
        "To start, I looked up basic categories of words that people would expect to learn within the first few months of learning a second language. I then boiled down [this set of categories](https://www.towerofbabelfish.com/the-method/vocabulary/base-vocabulary-list/) down to colors, days of the week, months of the year, basic verbs, family, seasons, and travel.\n",
        "\n",
        "I then thought of different tools that would be best suited for new language learners, which resulted in the 3 main functions of the program: dictionary lookup, simple vocabulary units, and ChatBot practice.\n",
        "\n",
        "With the dictionary lookup, I utilized the existing functionality of WordNet— primarily the synset class and its methods that take in languages as parameters.\n",
        "\n",
        "For the vocabulary units, I attempted to use the same functionality, but given that synsets give a long list of synonyms as translations, I wanted to make it simple for language learners by developing a function that only returns 1 translation per word. Thus, I tried to build a Spanish corpus using the online `.txt` version of _Don Quixote_ by cleaning the text of extraneous data and punctuation as well as ordering the words by usage. Ideally, the vocabulary function would have returned the most used translation for the given word.\n",
        "\n",
        "Finally, I gave one last effort at using `chatterbot` by creating a separate function outside of the `main()` program. If the user selects the third option (practice mode), the function will initiate a ChatBot trained on the target language. This involved creating a virtual environment with an older version of Python (3.7) to run `chatterbot`, creating a ChatBot based on the user's \"target language\" (the language being learned), and then using [existing chatterbox corpora](https://github.com/gunthercox/chatterbot-corpus) to train the bot. For both English and Spanish, I limited the data to more common topics like greetings, conversations, and sports.\n",
        "\n",
        "#### Future Directions\n",
        "Unfortunately, I could not get `chatterbot` to work well. Initially, I tried to use a `ListTrainer` on the ChatBot and gave the trainer my own conversations to work off of. However, the chatbot was slow to learn these responses, if it even began learning them at all. Even when I used the standard `ChatterBotCorpusTrainer`, the chatbot would return strange responses, regardless of whether or not I removed those datapoints from its training data. In the future, it would be very worthwhile to upgrade `chatterbot` or develop another ChatBot package compatible with Jupyter Notebook as this package only works with Python 3.7 or older.\n",
        "\n",
        "Within the existing options, I did not have enough time to fully implement the Vocabulary Mode (mode 2) for both English and Spanish. If I had more time, I would have tried to further expand the \"most used\" translation idea. To get the best Spanish translation, I would have built a larger Spanish corpus (rather than just one novel). As for the English translation, I would have liked to use the Brown corpus as a model for most common English words and phrases.\n",
        "\n",
        "Additionally, I think a language learning tool like this would benefit from some sort of sentence generator. Because we learned a simpler way of sentences in HW03, I would have liked to create some sort of N-grams model for sentence generation given the basic words in the vocabulary sets. Learners could practice translating these sentences (similar to existing Duolingo activities) to practice their fluency. Alternatively, these sentences (and their translations) could be used as examples in the dictionary to help learners develop reading comprehension and understand words using context clues.\n",
        "\n",
        "Lastly, a tool like this would be much more useful if I had expanded its reach to more languages in the WordNet database. With my own limited language knowledge, I was only able to create this project for English and Spanish— the prompts and menu options for each step of the way were translated by me in both languages, and I do not have the proficiency in any other language to do the same for more language options. If I knew a way to properly translate my prompts from English to every other language in the WordNet database, a tool like this would be revolutionary for NLTK and the low-resource language corpora."
      ]
    },
    {
      "cell_type": "markdown",
      "source": [
        "## Conclusion/Reflection\n",
        "\n",
        "While I enjoyed the work I made on this project, I believe there is much more to be accomplished before this tool could be beta-tested. This tool has some functionality for both word lookup and conversation practice, but it ultimately does not meet the standards of other resources online. That being said, though, this project was innovative in its attempt to combine multiple resources in one application. While most language learners would need to reference several different types of media to learn a given vocabulary unit, a finalized version of this project would make language  learning much simpler for people who do not know where to start. If I had the time and resources to explore the further directions mentioned above, I believe that this project would be extremely helpful for both language learners as well as fellow computer scientists and linguists working in natural language processing. The version I have now is just a start to the types of language technology I (and the rest of the NLP, MT, and computational linguistics communities) have yet to discover."
      ],
      "metadata": {
        "id": "zGxUw7Fyj4L8"
      }
    },
    {
      "cell_type": "markdown",
      "metadata": {
        "id": "UIIpCXqCsTUX"
      },
      "source": [
        "## Code/Data Repository"
      ]
    },
    {
      "cell_type": "code",
      "execution_count": 1,
      "metadata": {
        "id": "_RPyFDifsTUX"
      },
      "outputs": [],
      "source": [
        "import nltk\n",
        "import numpy as np\n",
        "import math\n",
        "from tqdm import tqdm\n",
        "from collections import defaultdict"
      ]
    },
    {
      "cell_type": "code",
      "execution_count": 2,
      "metadata": {
        "scrolled": true,
        "colab": {
          "base_uri": "https://localhost:8080/"
        },
        "id": "cwelDCDOsTUY",
        "outputId": "a72affe1-c1bb-4b44-d8af-0b6c10ece290"
      },
      "outputs": [
        {
          "output_type": "stream",
          "name": "stderr",
          "text": [
            "[nltk_data] Downloading package wordnet to /root/nltk_data...\n",
            "[nltk_data]   Package wordnet is already up-to-date!\n",
            "[nltk_data] Downloading package omw to /root/nltk_data...\n",
            "[nltk_data]   Package omw is already up-to-date!\n",
            "[nltk_data] Downloading package omw-1.4 to /root/nltk_data...\n",
            "[nltk_data]   Package omw-1.4 is already up-to-date!\n",
            "[nltk_data] Downloading package extended_omw to /root/nltk_data...\n",
            "[nltk_data]   Package extended_omw is already up-to-date!\n"
          ]
        },
        {
          "output_type": "execute_result",
          "data": {
            "text/plain": [
              "True"
            ]
          },
          "metadata": {},
          "execution_count": 2
        }
      ],
      "source": [
        "from nltk.corpus import wordnet as wn\n",
        "\n",
        "nltk.download(\"wordnet\")\n",
        "nltk.download(\"omw\")\n",
        "nltk.download(\"omw-1.4\")\n",
        "nltk.download(\"extended_omw\")"
      ]
    },
    {
      "cell_type": "code",
      "execution_count": 3,
      "metadata": {
        "scrolled": true,
        "id": "B4PFInr0sTUZ"
      },
      "outputs": [],
      "source": [
        "lang_opts = [\"eng\", \"spa\"]"
      ]
    },
    {
      "cell_type": "code",
      "execution_count": 4,
      "metadata": {
        "id": "2eCqvUZesTUZ"
      },
      "outputs": [],
      "source": [
        "def lang_set():\n",
        "    user_choice = \"tbd\"\n",
        "    while (user_choice != 1 and user_choice != 2):\n",
        "        user_choice = int(input(\"Please choose an option:\\n \\\n",
        "                       (1) I speak English, and I want to learn Spanish.\\n \\\n",
        "                       (2) Hablo español y quiero aprender inglés.\\n\"))\n",
        "    if user_choice == 1:\n",
        "        native = \"eng\"\n",
        "        target = \"spa\"\n",
        "    else:\n",
        "        native = \"spa\"\n",
        "        target = \"eng\"\n",
        "    return (native, target)"
      ]
    },
    {
      "cell_type": "code",
      "execution_count": 5,
      "metadata": {
        "id": "uEvdDYGxsTUZ"
      },
      "outputs": [],
      "source": [
        "def eng_mode_set():\n",
        "    mode = \"\"\n",
        "    while mode not in range(1, 5):\n",
        "        mode = int(input(\"Please choose a mode:\\n \\\n",
        "                           (1) Dictionary Mode\\n \\\n",
        "                           (2) Learning Mode\\n \\\n",
        "                           (3) Practice Mode\\n \\\n",
        "                           (4) Quit\\n\"))\n",
        "    return mode"
      ]
    },
    {
      "cell_type": "code",
      "source": [
        "def esp_mode_set():\n",
        "    mode = \"\"\n",
        "    while mode not in range(1, 5):\n",
        "        mode = int(input(\"Escoge una opción por favor:\\n \\\n",
        "                           (1) Quiero usar un diccionario.\\n \\\n",
        "                           (2) Quiero aprender vocabulario.\\n \\\n",
        "                           (3) Quiero practicar.\\n \\\n",
        "                           (4) Salir\\n\"))\n",
        "    return mode"
      ],
      "metadata": {
        "id": "0pAtxZzT0RCT"
      },
      "execution_count": 6,
      "outputs": []
    },
    {
      "cell_type": "code",
      "source": [
        "def eng_dict_lookup(mode):\n",
        "  if mode == 1:\n",
        "    word = str(input(\"Which English word would you like to look up in Spanish?\\t\"))\n",
        "    synsets = wn.synsets(word, lang=\"eng\")\n",
        "    for s in synsets:\n",
        "      print(f' - {s.pos()}. {s.definition()}')\n",
        "      syns = [w for w in s.lemma_names(lang=\"spa\") if w != word]\n",
        "      if len(syns) > 0:\n",
        "        print('  Possible Spanish equivalent(s): {}'.format(syns))\n",
        "    if len(synsets) == 0:\n",
        "      print(\"Sorry, that word is not in the dictionary.\")\n",
        "  else:\n",
        "    word = str(input(\"Which Spanish word would you like to look up?\\t\"))\n",
        "    synsets = wn.synsets(word, lang=\"spa\")\n",
        "    for s in synsets:\n",
        "      print(f' - {s.pos()}. {s.definition()}')\n",
        "      syns = [w for w in s.lemma_names(lang=\"spa\") if w != word]\n",
        "      if len(syns) > 0:\n",
        "        print('  Syn: {}'.format(syns))\n",
        "    if len(synsets) == 0:\n",
        "      print(\"Sorry, that word is not in the dictionary.\")"
      ],
      "metadata": {
        "id": "MGUbo1hAs9f2"
      },
      "execution_count": 7,
      "outputs": []
    },
    {
      "cell_type": "code",
      "source": [
        "def spa_dict_lookup(mode):\n",
        "  native = \"spa\"\n",
        "  target = \"eng\"\n",
        "  if mode == 1:\n",
        "    word = str(input(\"¿Qué es el significado de esta palabra?\\t\"))\n",
        "    synsets = wn.synsets(word, lang=\"eng\")\n",
        "    for i in range(len(synsets)):\n",
        "      print(f\"Contexto {i+1}: {synsets[i].lemma_names(lang=native)}\")\n",
        "    if len(synsets) == 0:\n",
        "      print(\"Lo siento, no puedo traducir esa palabra.\")\n",
        "  else:\n",
        "    word = str(input(\"¿Cómo se dice esta palabra en inglés?\\t\"))\n",
        "    synsets = wn.synsets(word, lang=\"spa\")\n",
        "    for i in range(len(synsets)):\n",
        "      print(f\"Contexto {i+1}: {synsets[i].lemma_names(lang=target)}\")\n",
        "    if len(synsets) == 0:\n",
        "      print(\"Lo siento, no puedo traducir esa palabra.\")"
      ],
      "metadata": {
        "id": "GTnvyrMLvAnD"
      },
      "execution_count": 8,
      "outputs": []
    },
    {
      "cell_type": "code",
      "execution_count": 9,
      "metadata": {
        "id": "bHmwFAeqsTUZ"
      },
      "outputs": [],
      "source": [
        "def dictionary_mode(native):\n",
        "    choice = \"\"\n",
        "    while choice not in range(1, 4):\n",
        "      if native == \"eng\":\n",
        "        choice = int(input(\"Please choose an option:\\n \\\n",
        "                        (1) English to Spanish\\n \\\n",
        "                        (2) Spanish to English\\n \\\n",
        "                        (3) Exit\\n\"))\n",
        "      else:\n",
        "        choice = int(input(\"Escoge una opción por favor:\\n \\\n",
        "                        (1) Inglés—Español\\n \\\n",
        "                        (2) Español—Inglés\\n \\\n",
        "                        (3) Salir\\n\"))\n",
        "    if choice == 3:\n",
        "        return\n",
        "    else:\n",
        "      while True:\n",
        "            if native == \"eng\":\n",
        "              eng_dict_lookup(choice)\n",
        "              done = input(\"Would you like to look up another word? (Yes / No)\\t\")\n",
        "            else:\n",
        "              spa_dict_lookup(choice)\n",
        "              done = input(\"¿Quieres traducir otra palabra? (Sí / No)\\t\")\n",
        "            if done.lower() == \"no\":\n",
        "                  break"
      ]
    },
    {
      "cell_type": "code",
      "execution_count": 10,
      "metadata": {
        "id": "SjdEstYqsTUa"
      },
      "outputs": [],
      "source": [
        "basic_categories = {}\n",
        "basic_categories[\"color\"] = [\"red\",\"green\",\"blue\",\"yellow\",\"green\",\"brown\",\"pink\",\"orange\",\"black\",\"white\",\"gray\"]\n",
        "basic_categories[\"week\"] = [\"sunday\",\"monday\",\"tuesday\",\"wednesday\",\"thursday\",\"friday\",\"saturday\"]\n",
        "basic_categories[\"month\"] = [\"january\",\"february\",\"march\",\"april\",\"may\",\"june\",\"july\",\"august\",\"september\",\"october\",\"november\",\"december\"]\n",
        "basic_categories[\"verb\"] = [\"run\", \"walk\", \"think\", \"speak\", \"smile\", \"eat\", \"drink\", \"sleep\", \"cook\"]\n",
        "basic_categories[\"person\"] = [\"man\", \"woman\", \"person\", \"mother\", \"father\", \"son\", \"daughter\", \"sister\", \"brother\", \"family\", \"boy\", \"girl\", \"husband\", \"wife\"]\n",
        "basic_categories[\"season\"] = [\"winter\", \"spring\", \"summer\", \"fall\"]\n",
        "basic_categories[\"travel\"] = [\"hotel\", \"restaurant\", \"place\", \"airport\", \"car\", \"plane\", \"bicycle\", \"ticket\", \"boat\"]\n",
        "\n",
        "basic_pos = {}\n",
        "basic_pos[\"color\"] = \"a\"\n",
        "basic_pos[\"week\"] = \"n\"\n",
        "basic_pos[\"month\"] = \"n\"\n",
        "basic_pos[\"verb\"] = \"v\"\n",
        "basic_pos[\"person\"] = \"n\"\n",
        "basic_pos[\"season\"] = \"n\"\n",
        "basic_pos[\"travel\"] = \"n\""
      ]
    },
    {
      "cell_type": "code",
      "execution_count": 11,
      "metadata": {
        "scrolled": false,
        "id": "tdN6ZFecsTUa"
      },
      "outputs": [],
      "source": [
        "def learning_category(native):\n",
        "    choice = \"\"\n",
        "    while choice not in range(1, 8):\n",
        "        if native == \"eng\":\n",
        "            choice = int(input(\"What subject would you like to learn?:\\n \\\n",
        "                           (1) Colors\\n \\\n",
        "                           (2) Days of the Week\\n \\\n",
        "                           (3) Months of the Year\\n \\\n",
        "                           (4) Basic Verbs\\n \\\n",
        "                           (5) Family\\n \\\n",
        "                           (6) Seasons\\n \\\n",
        "                           (7) Travel\\n\"))\n",
        "        else:\n",
        "            choice = int(input(\"¿Qué te gustaría aprender?:\\n \\\n",
        "                           (1) Los colores\\n \\\n",
        "                           (2) Los días de la semana\\n \\\n",
        "                           (3) Los meses del año\\n \\\n",
        "                           (4) Unos verbos fáciles\\n \\\n",
        "                           (5) La familia\\n \\\n",
        "                           (6) Las estaciones del año\\n \\\n",
        "                           (7) El viaje\\n\"))\n",
        "    return choice-1"
      ]
    },
    {
      "cell_type": "code",
      "source": [
        "# building a Spanish corpora based off of Don Quixote (as provided by Project Gutenberg)\n",
        "# using this method that I learned in CAS LX496 (Computational Linguistics, Prof. Hagstrom)\n",
        "from urllib import request\n",
        "dq_url = \"https://www.gutenberg.org/cache/epub/2000/pg2000.txt\"\n",
        "dq_response = request.urlopen(dq_url)\n",
        "dq_raw = dq_response.read().decode('utf8')\n",
        "\n",
        "byline = \"por Miguel de Cervantes Saavedra\"\n",
        "start_index = dq_raw.find(\"por Miguel de Cervantes Saavedra\")\n",
        "end_index = dq_raw.find(\"*** END OF THE PROJECT GUTENBERG EBOOK DON QUIJOTE ***\")\n",
        "\n",
        "dq_raw = dq_raw[start_index+len(byline):end_index]\n",
        "from string import punctuation\n",
        "clean_dq = (''.join([c for c in dq_raw if c not in punctuation])).lower()\n",
        "dq_words = clean_dq.split()\n",
        "\n",
        "from collections import Counter\n",
        "dq_mc = Counter(dq_words).most_common()\n",
        "esp_mc_nocounts = []\n",
        "for i in tqdm(range(len(dq_mc))):\n",
        "  esp_mc_nocounts.append(dq_mc[i][0])\n",
        "\n",
        "esp_mc_nocounts = list(set(esp_mc_nocounts))"
      ],
      "metadata": {
        "colab": {
          "base_uri": "https://localhost:8080/"
        },
        "id": "wDqtPLj1I6HR",
        "outputId": "494150d2-0e6e-402b-99a7-472f334c35e1"
      },
      "execution_count": 12,
      "outputs": [
        {
          "output_type": "stream",
          "name": "stderr",
          "text": [
            "100%|██████████| 23772/23772 [00:00<00:00, 770759.53it/s]\n"
          ]
        }
      ]
    },
    {
      "cell_type": "code",
      "source": [
        "def learn(native, target, choice):\n",
        "  categories = list(basic_categories.keys())\n",
        "  topic = categories[choice]\n",
        "  word_pairs = []\n",
        "  for term in basic_categories[topic]:\n",
        "    if native == \"eng\":\n",
        "      synsets = wn.synsets(term, lang=native)\n",
        "    else:\n",
        "      synsets = wn.synsets(term, lang=target)\n",
        "    for i in range(len(synsets)):\n",
        "      name_pos_num = synsets[i].name().split(\".\")\n",
        "      if (name_pos_num[1] == basic_pos[topic]) \\\n",
        "      or (name_pos_num[1] == \"s\" and basic_pos[topic] == \"a\"):\n",
        "        if native == \"eng\":\n",
        "          poss_transls = synsets[i].lemma_names(lang=target)\n",
        "        else:\n",
        "          poss_transls = synsets[i].lemma_names(lang=native)\n",
        "    pt_ranks = []\n",
        "    for j in range(len(esp_mc_nocounts)):\n",
        "      for word in poss_transls:\n",
        "        if esp_mc_nocounts[j] == word:\n",
        "          pt_ranks.append(j)\n",
        "    if len(pt_ranks) == 0:\n",
        "      best_match = poss_transls[0]\n",
        "    else:\n",
        "      best_match = poss_transls[pt_ranks.index(min(pt_ranks))]\n",
        "    word_pairs.append((term, best_match))\n",
        "  for (nat_word, tar_word) in word_pairs:\n",
        "    print(f\"{tar_word} - ({basic_pos[topic]}.) {nat_word}\")"
      ],
      "metadata": {
        "id": "K45YnjdF6k_H"
      },
      "execution_count": 13,
      "outputs": []
    },
    {
      "cell_type": "code",
      "source": [
        "def start_chatbot(native):\n",
        "  if native == \"eng\":\n",
        "    print(\"Please wait...\")\n",
        "  else:\n",
        "    print(\"Espera por favor...\")\n",
        "  !pip install -q condacolab\n",
        "  import condacolab\n",
        "  condacolab.install()\n",
        "  !conda create --name myenv python=3.7\n",
        "  !conda activate myenv\n",
        "  !pip install chatterbot==1.0.4\n",
        "  !pip install -U PyYaml==3.12\n",
        "  import collections.abc\n",
        "  collections.Hashable = collections.abc.Hashable\n",
        "  from chatterbot import ChatBot\n",
        "  from chatterbot.trainers import ChatterBotCorpusTrainer\n",
        "  if native == \"eng\":\n",
        "    esp_chatbot = ChatBot(\"Español\")\n",
        "    esp_trainer = ChatterBotCorpusTrainer(esp_chatbot)\n",
        "    esp_trainer.train(\"chatterbot.corpus.spanish.greetings\",\n",
        "                      \"chatterbot.corpus.spanish.conversations\")\n",
        "    while True:\n",
        "      print(\"To quit, type \\\"Goodbye\\\" or \\\"Adiós\\\".\")\n",
        "      user_in = input(\"¿Qué quieres decir al ChatBot?\\t\")\n",
        "      if user_in.lower() == \"goodbye\" or user_in.lower() == \"adiós\":\n",
        "        break\n",
        "      response = esp_chatbot.get_response(str(input))\n",
        "      print(response)\n",
        "  else:\n",
        "    eng_chatbot = ChatBot(\"English\")\n",
        "    eng_trainer = ChatterBotCorpusTrainer(eng_chatbot)\n",
        "    eng_trainer.train(\"chatterbot.corpus.english.conversations\",\n",
        "                      \"chatterbot.corpus.english.greetings\",\n",
        "                      \"chatterbot.corpus.english.health\",\n",
        "                      \"chatterbot.corpus.english.sports\",\n",
        "                      \"chatterbot.corpus.english.humor\")\n",
        "    while True:\n",
        "      print(\"Para salir, escribe \\\"Goodbye\\\" o \\\"Adiós\\\".\")\n",
        "      user_in = input(\"What do you want to say to the ChatBot?\\t\")\n",
        "      if user_in.lower() == \"goodbye\" or user_in.lower() == \"adiós\":\n",
        "        break\n",
        "      response = eng_chatbot.get_response(str(input))\n",
        "      print(response)\n",
        "  print(\"Goodbye! Good luck on studying!\")\n",
        "  print(\"¡Adiós! ¡Buena suerte por estudiar!\")\n",
        "  return"
      ],
      "metadata": {
        "id": "FWCwXbjs1RmE"
      },
      "execution_count": 14,
      "outputs": []
    },
    {
      "cell_type": "code",
      "source": [
        "def chatbot(native):\n",
        "  if native == \"eng\":\n",
        "    esp_chatbot = ChatBot(\"Español\")\n",
        "    esp_trainer = ChatterBotCorpusTrainer(esp_chatbot)\n",
        "    esp_trainer.train(\"chatterbot.corpus.spanish.greetings\",\n",
        "                      \"chatterbot.corpus.spanish.conversations\")\n",
        "    while True:\n",
        "      print(\"To quit, type \\\"Goodbye\\\" or \\\"Adiós\\\".\")\n",
        "      user_in = input(\"¿Qué quieres decir al ChatBot?\\t\")\n",
        "      if user_in.lower() == \"goodbye\" or user_in.lower() == \"adiós\":\n",
        "        break\n",
        "      response = esp_chatbot.get_response(str(input))\n",
        "      print(response)\n",
        "  else:\n",
        "    eng_chatbot = ChatBot(\"English\")\n",
        "    eng_trainer = ChatterBotCorpusTrainer(eng_chatbot)\n",
        "    eng_trainer.train(\"chatterbot.corpus.english.conversations\",\n",
        "                      \"chatterbot.corpus.english.greetings\",\n",
        "                      \"chatterbot.corpus.english.health\",\n",
        "                      \"chatterbot.corpus.english.sports\",\n",
        "                      \"chatterbot.corpus.english.humor\")\n",
        "    while True:\n",
        "      print(\"Para salir, escribe \\\"Goodbye\\\" o \\\"Adiós\\\".\")\n",
        "      user_in = input(\"What do you want to say to the ChatBot?\\t\")\n",
        "      if user_in.lower() == \"goodbye\" or user_in.lower() == \"adiós\":\n",
        "        break\n",
        "      response = eng_chatbot.get_response(str(input))\n",
        "      print(response)\n",
        "  print(\"Goodbye! Good luck on studying!\")\n",
        "  print(\"¡Adiós! ¡Buena suerte por estudiar!\")\n",
        "  return"
      ],
      "metadata": {
        "id": "64L-di1SCJaI"
      },
      "execution_count": 15,
      "outputs": []
    },
    {
      "cell_type": "code",
      "source": [
        "def main():\n",
        "  (native, target) = lang_set()\n",
        "  typed_three_before = False\n",
        "  while True:\n",
        "    if native == \"eng\":\n",
        "      mode = eng_mode_set()\n",
        "    else:\n",
        "      mode = esp_mode_set()\n",
        "    if mode == 1:\n",
        "      dictionary_mode(native)\n",
        "    elif mode == 2:\n",
        "      learn(native, target, learning_category(native))\n",
        "    elif mode == 3:\n",
        "      if not typed_three_before:\n",
        "        start_chatbot(native)\n",
        "      else:\n",
        "        chatbot(native)\n",
        "    elif mode == 4:\n",
        "      print(\"Goodbye! Good luck on studying!\")\n",
        "      print(\"¡Adiós! ¡Buena suerte por estudiar!\")\n",
        "      break"
      ],
      "metadata": {
        "id": "c4tarQOPzOxn"
      },
      "execution_count": 16,
      "outputs": []
    },
    {
      "cell_type": "code",
      "source": [
        "# for L1 English\n",
        "main()"
      ],
      "metadata": {
        "colab": {
          "base_uri": "https://localhost:8080/"
        },
        "id": "tT2TejGb4TXp",
        "outputId": "ef04b91b-ee4a-41e9-ff49-5bb446912417"
      },
      "execution_count": 17,
      "outputs": [
        {
          "output_type": "stream",
          "name": "stdout",
          "text": [
            "Please choose an option:\n",
            "                        (1) I speak English, and I want to learn Spanish.\n",
            "                        (2) Hablo español y quiero aprender inglés.\n",
            "1\n",
            "Please choose a mode:\n",
            "                            (1) Dictionary Mode\n",
            "                            (2) Learning Mode\n",
            "                            (3) Practice Mode\n",
            "                            (4) Quit\n",
            "1\n",
            "Please choose an option:\n",
            "                         (1) English to Spanish\n",
            "                         (2) Spanish to English\n",
            "                         (3) Exit\n",
            "1\n",
            "Which English word would you like to look up in Spanish?\tcar\n",
            " - n. a motor vehicle with four wheels; usually propelled by an internal combustion engine\n",
            "  Possible Spanish equivalent(s): ['auto', 'automóvil', 'carro', 'coche', 'máquina', 'turismo', 'vehículo']\n",
            " - n. a wheeled vehicle adapted to the rails of railroad\n",
            "  Possible Spanish equivalent(s): ['automotor', 'coche', 'vagón']\n",
            " - n. the compartment that is suspended from an airship and that carries personnel and the cargo and the power plant\n",
            "  Possible Spanish equivalent(s): ['barquilla']\n",
            " - n. where passengers ride up and down\n",
            "  Possible Spanish equivalent(s): ['caja', 'caja_de_ascensor']\n",
            " - n. a conveyance for passengers or freight on a cable railway\n",
            "  Possible Spanish equivalent(s): ['choche', 'funicular', 'teleférico']\n",
            "Would you like to look up another word? (Yes / No)\tno\n",
            "Please choose a mode:\n",
            "                            (1) Dictionary Mode\n",
            "                            (2) Learning Mode\n",
            "                            (3) Practice Mode\n",
            "                            (4) Quit\n",
            "1\n",
            "Please choose an option:\n",
            "                         (1) English to Spanish\n",
            "                         (2) Spanish to English\n",
            "                         (3) Exit\n",
            "2\n",
            "Which Spanish word would you like to look up?\tcorrer\n",
            " - v. compete in a race\n",
            "  Syn: ['echar_una_carrera']\n",
            " - v. move or pull so as to cover or uncover something\n",
            " - v. cover by running; run a certain distance\n",
            " - v. move fast by using one's feet, with one foot off the ground at any given time\n",
            " - v. move or progress freely as if in a stream\n",
            "  Syn: ['fluctuar', 'fluir']\n",
            " - v. move along, of liquids\n",
            "  Syn: ['crecer', 'fluir']\n",
            " - v. flow in a spurt\n",
            "  Syn: ['fluir']\n",
            "Would you like to look up another word? (Yes / No)\tno\n",
            "Please choose a mode:\n",
            "                            (1) Dictionary Mode\n",
            "                            (2) Learning Mode\n",
            "                            (3) Practice Mode\n",
            "                            (4) Quit\n",
            "3\n",
            "Please wait...\n",
            "\u001b[33mWARNING: Running pip as the 'root' user can result in broken permissions and conflicting behaviour with the system package manager. It is recommended to use a virtual environment instead: https://pip.pypa.io/warnings/venv\u001b[0m\u001b[33m\n",
            "\u001b[0m✨🍰✨ Everything looks OK!\n",
            "Collecting package metadata (current_repodata.json): - \b\b\\ \b\b| \b\b/ \b\b- \b\b\\ \b\b| \b\b/ \b\b- \b\b\\ \b\b| \b\b/ \b\b- \b\b\\ \b\b| \b\b/ \b\b- \b\b\\ \b\b| \b\b/ \b\b- \b\b\\ \b\b| \b\b/ \b\bdone\n",
            "Solving environment: \\ \b\b| \b\b/ \b\bdone\n",
            "\n",
            "\n",
            "==> WARNING: A newer version of conda exists. <==\n",
            "  current version: 23.1.0\n",
            "  latest version: 23.11.0\n",
            "\n",
            "Please update conda by running\n",
            "\n",
            "    $ conda update -n base -c conda-forge conda\n",
            "\n",
            "Or to minimize the number of packages updated during conda update use\n",
            "\n",
            "     conda install conda=23.11.0\n",
            "\n",
            "\n",
            "\n",
            "## Package Plan ##\n",
            "\n",
            "  environment location: /usr/local/envs/myenv\n",
            "\n",
            "  added / updated specs:\n",
            "    - python=3.7\n",
            "\n",
            "\n",
            "The following NEW packages will be INSTALLED:\n",
            "\n",
            "  _libgcc_mutex      conda-forge/linux-64::_libgcc_mutex-0.1-conda_forge \n",
            "  _openmp_mutex      conda-forge/linux-64::_openmp_mutex-4.5-2_gnu \n",
            "  ca-certificates    conda-forge/linux-64::ca-certificates-2023.11.17-hbcca054_0 \n",
            "  ld_impl_linux-64   conda-forge/linux-64::ld_impl_linux-64-2.40-h41732ed_0 \n",
            "  libffi             conda-forge/linux-64::libffi-3.4.2-h7f98852_5 \n",
            "  libgcc-ng          conda-forge/linux-64::libgcc-ng-13.2.0-h807b86a_3 \n",
            "  libgomp            conda-forge/linux-64::libgomp-13.2.0-h807b86a_3 \n",
            "  libnsl             conda-forge/linux-64::libnsl-2.0.1-hd590300_0 \n",
            "  libsqlite          conda-forge/linux-64::libsqlite-3.44.2-h2797004_0 \n",
            "  libstdcxx-ng       conda-forge/linux-64::libstdcxx-ng-13.2.0-h7e041cc_3 \n",
            "  libzlib            conda-forge/linux-64::libzlib-1.2.13-hd590300_5 \n",
            "  ncurses            conda-forge/linux-64::ncurses-6.4-h59595ed_2 \n",
            "  openssl            conda-forge/linux-64::openssl-3.2.0-hd590300_1 \n",
            "  pip                conda-forge/noarch::pip-23.3.2-pyhd8ed1ab_0 \n",
            "  python             conda-forge/linux-64::python-3.7.12-hf930737_100_cpython \n",
            "  readline           conda-forge/linux-64::readline-8.2-h8228510_1 \n",
            "  setuptools         conda-forge/noarch::setuptools-68.2.2-pyhd8ed1ab_0 \n",
            "  sqlite             conda-forge/linux-64::sqlite-3.44.2-h2c6b66d_0 \n",
            "  tk                 conda-forge/linux-64::tk-8.6.13-noxft_h4845f30_101 \n",
            "  wheel              conda-forge/noarch::wheel-0.42.0-pyhd8ed1ab_0 \n",
            "  xz                 conda-forge/linux-64::xz-5.2.6-h166bdaf_0 \n",
            "\n",
            "\n",
            "\n",
            "Downloading and Extracting Packages\n",
            "\n",
            "Preparing transaction: \\ \b\b| \b\b/ \b\b- \b\bdone\n",
            "Verifying transaction: | \b\b/ \b\b- \b\b\\ \b\b| \b\b/ \b\b- \b\b\\ \b\b| \b\b/ \b\b- \b\b\\ \b\b| \b\b/ \b\b- \b\b\\ \b\b| \b\b/ \b\b- \b\b\\ \b\b| \b\bdone\n",
            "Executing transaction: - \b\b\\ \b\b| \b\b/ \b\b- \b\b\\ \b\b| \b\b/ \b\b- \b\b\\ \b\b| \b\b/ \b\b- \b\b\\ \b\b| \b\b/ \b\b- \b\b\\ \b\b| \b\b/ \b\b- \b\b\\ \b\b| \b\b/ \b\b- \b\b\\ \b\b| \b\b/ \b\b- \b\b\\ \b\b| \b\b/ \b\b- \b\b\\ \b\b| \b\b/ \b\b- \b\b\\ \b\b| \b\b/ \b\b- \b\b\\ \b\b| \b\b/ \b\b- \b\b\\ \b\b| \b\b/ \b\b- \b\b\\ \b\b| \b\bdone\n",
            "#\n",
            "# To activate this environment, use\n",
            "#\n",
            "#     $ conda activate myenv\n",
            "#\n",
            "# To deactivate an active environment, use\n",
            "#\n",
            "#     $ conda deactivate\n",
            "\n",
            "\n",
            "CommandNotFoundError: Your shell has not been properly configured to use 'conda activate'.\n",
            "To initialize your shell, run\n",
            "\n",
            "    $ conda init <SHELL_NAME>\n",
            "\n",
            "Currently supported shells are:\n",
            "  - bash\n",
            "  - fish\n",
            "  - tcsh\n",
            "  - xonsh\n",
            "  - zsh\n",
            "  - powershell\n",
            "\n",
            "See 'conda init --help' for more information and options.\n",
            "\n",
            "IMPORTANT: You may need to close and restart your shell after running 'conda init'.\n",
            "\n",
            "\n",
            "Requirement already satisfied: chatterbot==1.0.4 in /usr/local/lib/python3.10/site-packages (1.0.4)\n",
            "Requirement already satisfied: mathparse<0.2,>=0.1 in /usr/local/lib/python3.10/site-packages (from chatterbot==1.0.4) (0.1.2)\n",
            "Requirement already satisfied: python-dateutil<2.8,>=2.7 in /usr/local/lib/python3.10/site-packages (from chatterbot==1.0.4) (2.7.5)\n",
            "Requirement already satisfied: nltk<4.0,>=3.2 in /usr/local/lib/python3.10/site-packages (from chatterbot==1.0.4) (3.8.1)\n",
            "Requirement already satisfied: pymongo<4.0,>=3.3 in /usr/local/lib/python3.10/site-packages (from chatterbot==1.0.4) (3.13.0)\n",
            "Requirement already satisfied: sqlalchemy<1.3,>=1.2 in /usr/local/lib/python3.10/site-packages (from chatterbot==1.0.4) (1.2.19)\n",
            "Requirement already satisfied: pint>=0.8.1 in /usr/local/lib/python3.10/site-packages (from chatterbot==1.0.4) (0.23)\n",
            "Requirement already satisfied: chatterbot-corpus<1.3,>=1.2 in /usr/local/lib/python3.10/site-packages (from chatterbot==1.0.4) (1.2.0)\n",
            "Requirement already satisfied: PyYAML<4.0,>=3.12 in /usr/local/lib/python3.10/site-packages (from chatterbot-corpus<1.3,>=1.2->chatterbot==1.0.4) (3.12)\n",
            "Requirement already satisfied: click in /usr/local/lib/python3.10/site-packages (from nltk<4.0,>=3.2->chatterbot==1.0.4) (8.1.7)\n",
            "Requirement already satisfied: regex>=2021.8.3 in /usr/local/lib/python3.10/site-packages (from nltk<4.0,>=3.2->chatterbot==1.0.4) (2023.12.25)\n",
            "Requirement already satisfied: joblib in /usr/local/lib/python3.10/site-packages (from nltk<4.0,>=3.2->chatterbot==1.0.4) (1.3.2)\n",
            "Requirement already satisfied: tqdm in /usr/local/lib/python3.10/site-packages (from nltk<4.0,>=3.2->chatterbot==1.0.4) (4.65.0)\n",
            "Requirement already satisfied: typing-extensions in /usr/local/lib/python3.10/site-packages (from pint>=0.8.1->chatterbot==1.0.4) (4.9.0)\n",
            "Requirement already satisfied: six>=1.5 in /usr/local/lib/python3.10/site-packages (from python-dateutil<2.8,>=2.7->chatterbot==1.0.4) (1.16.0)\n",
            "\u001b[33mWARNING: Running pip as the 'root' user can result in broken permissions and conflicting behaviour with the system package manager. It is recommended to use a virtual environment instead: https://pip.pypa.io/warnings/venv\u001b[0m\u001b[33m\n",
            "\u001b[0mRequirement already satisfied: PyYaml==3.12 in /usr/local/lib/python3.10/site-packages (3.12)\n",
            "\u001b[33mWARNING: Running pip as the 'root' user can result in broken permissions and conflicting behaviour with the system package manager. It is recommended to use a virtual environment instead: https://pip.pypa.io/warnings/venv\u001b[0m\u001b[33m\n",
            "Training greetings.yml: [#                   ] 3%"
          ]
        },
        {
          "output_type": "stream",
          "name": "stderr",
          "text": [
            "[nltk_data] Downloading package averaged_perceptron_tagger to\n",
            "[nltk_data]     /root/nltk_data...\n",
            "[nltk_data]   Package averaged_perceptron_tagger is already up-to-\n",
            "[nltk_data]       date!\n",
            "[nltk_data] Downloading package punkt to /root/nltk_data...\n",
            "[nltk_data]   Package punkt is already up-to-date!\n",
            "[nltk_data] Downloading package stopwords to /root/nltk_data...\n",
            "[nltk_data]   Package stopwords is already up-to-date!\n"
          ]
        },
        {
          "output_type": "stream",
          "name": "stdout",
          "text": [
            "Training greetings.yml: [####################] 100%\n",
            "Training conversations.yml: [####################] 100%\n",
            "To quit, type \"Goodbye\" or \"Adiós\".\n",
            "¿Qué quieres decir al ChatBot?\t¡Hola!\n",
            "Los casos especiales no son lo suficientemente especiales como para romper las reglas.\n",
            "To quit, type \"Goodbye\" or \"Adiós\".\n",
            "¿Qué quieres decir al ChatBot?\t¿Cómo estás?\n",
            "Los errores nunca debe pasar en silencio.\n",
            "To quit, type \"Goodbye\" or \"Adiós\".\n",
            "¿Qué quieres decir al ChatBot?\tEstoy bien\n",
            "Significa que sólo se vive una vez. ¿Dónde has oído eso?\n",
            "To quit, type \"Goodbye\" or \"Adiós\".\n",
            "¿Qué quieres decir al ChatBot?\tgoodbye\n",
            "Goodbye! Good luck on studying!\n",
            "¡Adiós! ¡Buena suerte por estudiar!\n",
            "Please choose a mode:\n",
            "                            (1) Dictionary Mode\n",
            "                            (2) Learning Mode\n",
            "                            (3) Practice Mode\n",
            "                            (4) Quit\n",
            "4\n",
            "Goodbye! Good luck on studying!\n",
            "¡Adiós! ¡Buena suerte por estudiar!\n"
          ]
        }
      ]
    },
    {
      "cell_type": "code",
      "source": [
        "# for L1 Spanish\n",
        "main()"
      ],
      "metadata": {
        "colab": {
          "base_uri": "https://localhost:8080/"
        },
        "id": "Lj5eIrDHsbwC",
        "outputId": "8ca5898e-0ef4-4263-9001-564ce49daf07"
      },
      "execution_count": 18,
      "outputs": [
        {
          "output_type": "stream",
          "name": "stdout",
          "text": [
            "Please choose an option:\n",
            "                        (1) I speak English, and I want to learn Spanish.\n",
            "                        (2) Hablo español y quiero aprender inglés.\n",
            "2\n",
            "Escoge una opción por favor:\n",
            "                            (1) Quiero usar un diccionario.\n",
            "                            (2) Quiero aprender vocabulario.\n",
            "                            (3) Quiero practicar.\n",
            "                            (4) Salir\n",
            "1\n",
            "Escoge una opción por favor:\n",
            "                         (1) Inglés—Español\n",
            "                         (2) Español—Inglés\n",
            "                         (3) Salir\n",
            "1\n",
            "¿Qué es el significado de esta palabra?\tman\n",
            "Contexto 1: ['hombre', 'varón']\n",
            "Contexto 2: ['militar']\n",
            "Contexto 3: ['hombre']\n",
            "Contexto 4: ['hombre']\n",
            "Contexto 5: []\n",
            "Contexto 6: []\n",
            "Contexto 7: ['ayuda_de_cámara']\n",
            "Contexto 8: ['hombre']\n",
            "Contexto 9: ['Isla_de_Man', 'Man']\n",
            "Contexto 10: ['pieza']\n",
            "Contexto 11: ['hombre', 'humanidad', 'mundo']\n",
            "Contexto 12: []\n",
            "Contexto 13: []\n",
            "¿Quieres traducir otra palabra? (Sí / No)\tno\n",
            "Escoge una opción por favor:\n",
            "                            (1) Quiero usar un diccionario.\n",
            "                            (2) Quiero aprender vocabulario.\n",
            "                            (3) Quiero practicar.\n",
            "                            (4) Salir\n",
            "1\n",
            "Escoge una opción por favor:\n",
            "                         (1) Inglés—Español\n",
            "                         (2) Español—Inglés\n",
            "                         (3) Salir\n",
            "2\n",
            "¿Cómo se dice esta palabra en inglés?\tcorrer\n",
            "Contexto 1: ['race', 'run']\n",
            "Contexto 2: ['draw']\n",
            "Contexto 3: ['run']\n",
            "Contexto 4: ['run']\n",
            "Contexto 5: ['flow', 'flux']\n",
            "Contexto 6: ['run', 'flow', 'feed', 'course']\n",
            "Contexto 7: ['pour']\n",
            "¿Quieres traducir otra palabra? (Sí / No)\tno\n",
            "Escoge una opción por favor:\n",
            "                            (1) Quiero usar un diccionario.\n",
            "                            (2) Quiero aprender vocabulario.\n",
            "                            (3) Quiero practicar.\n",
            "                            (4) Salir\n",
            "3\n",
            "Espera por favor...\n",
            "\u001b[33mWARNING: Running pip as the 'root' user can result in broken permissions and conflicting behaviour with the system package manager. It is recommended to use a virtual environment instead: https://pip.pypa.io/warnings/venv\u001b[0m\u001b[33m\n",
            "\u001b[0m✨🍰✨ Everything looks OK!\n",
            "Collecting package metadata (current_repodata.json): - \b\b\\ \b\b| \b\b/ \b\b- \b\b\\ \b\b| \b\b/ \b\b- \b\b\\ \b\b| \b\b/ \b\b- \b\b\\ \b\b| \b\b/ \b\b- \b\b\\ \b\b| \b\b/ \b\b- \b\b\\ \b\b| \b\b/ \b\b- \b\b\\ \b\b| \b\bdone\n",
            "Solving environment: - \b\b\\ \b\b| \b\bdone\n",
            "\n",
            "\n",
            "==> WARNING: A newer version of conda exists. <==\n",
            "  current version: 23.1.0\n",
            "  latest version: 23.11.0\n",
            "\n",
            "Please update conda by running\n",
            "\n",
            "    $ conda update -n base -c conda-forge conda\n",
            "\n",
            "Or to minimize the number of packages updated during conda update use\n",
            "\n",
            "     conda install conda=23.11.0\n",
            "\n",
            "\n",
            "\n",
            "## Package Plan ##\n",
            "\n",
            "  environment location: /usr/local/envs/myenv\n",
            "\n",
            "  added / updated specs:\n",
            "    - python=3.7\n",
            "\n",
            "\n",
            "The following NEW packages will be INSTALLED:\n",
            "\n",
            "  _libgcc_mutex      conda-forge/linux-64::_libgcc_mutex-0.1-conda_forge \n",
            "  _openmp_mutex      conda-forge/linux-64::_openmp_mutex-4.5-2_gnu \n",
            "  ca-certificates    conda-forge/linux-64::ca-certificates-2023.11.17-hbcca054_0 \n",
            "  ld_impl_linux-64   conda-forge/linux-64::ld_impl_linux-64-2.40-h41732ed_0 \n",
            "  libffi             conda-forge/linux-64::libffi-3.4.2-h7f98852_5 \n",
            "  libgcc-ng          conda-forge/linux-64::libgcc-ng-13.2.0-h807b86a_3 \n",
            "  libgomp            conda-forge/linux-64::libgomp-13.2.0-h807b86a_3 \n",
            "  libnsl             conda-forge/linux-64::libnsl-2.0.1-hd590300_0 \n",
            "  libsqlite          conda-forge/linux-64::libsqlite-3.44.2-h2797004_0 \n",
            "  libstdcxx-ng       conda-forge/linux-64::libstdcxx-ng-13.2.0-h7e041cc_3 \n",
            "  libzlib            conda-forge/linux-64::libzlib-1.2.13-hd590300_5 \n",
            "  ncurses            conda-forge/linux-64::ncurses-6.4-h59595ed_2 \n",
            "  openssl            conda-forge/linux-64::openssl-3.2.0-hd590300_1 \n",
            "  pip                conda-forge/noarch::pip-23.3.2-pyhd8ed1ab_0 \n",
            "  python             conda-forge/linux-64::python-3.7.12-hf930737_100_cpython \n",
            "  readline           conda-forge/linux-64::readline-8.2-h8228510_1 \n",
            "  setuptools         conda-forge/noarch::setuptools-68.2.2-pyhd8ed1ab_0 \n",
            "  sqlite             conda-forge/linux-64::sqlite-3.44.2-h2c6b66d_0 \n",
            "  tk                 conda-forge/linux-64::tk-8.6.13-noxft_h4845f30_101 \n",
            "  wheel              conda-forge/noarch::wheel-0.42.0-pyhd8ed1ab_0 \n",
            "  xz                 conda-forge/linux-64::xz-5.2.6-h166bdaf_0 \n",
            "\n",
            "\n",
            "\n",
            "Downloading and Extracting Packages\n",
            "\n",
            "Preparing transaction: - \b\b\\ \b\b| \b\b/ \b\bdone\n",
            "Verifying transaction: \\ \b\b| \b\b/ \b\b- \b\b\\ \b\b| \b\b/ \b\b- \b\b\\ \b\b| \b\b/ \b\b- \b\b\\ \b\b| \b\b/ \b\b- \b\b\\ \b\b| \b\b/ \b\b- \b\b\\ \b\b| \b\bdone\n",
            "Executing transaction: - \b\b\\ \b\b| \b\b/ \b\b- \b\b\\ \b\b| \b\b/ \b\b- \b\b\\ \b\b| \b\b/ \b\b- \b\b\\ \b\b| \b\b/ \b\b- \b\b\\ \b\b| \b\b/ \b\b- \b\b\\ \b\b| \b\b/ \b\b- \b\b\\ \b\b| \b\b/ \b\b- \b\b\\ \b\b| \b\b/ \b\b- \b\b\\ \b\b| \b\b/ \b\b- \b\b\\ \b\b| \b\b/ \b\bdone\n",
            "#\n",
            "# To activate this environment, use\n",
            "#\n",
            "#     $ conda activate myenv\n",
            "#\n",
            "# To deactivate an active environment, use\n",
            "#\n",
            "#     $ conda deactivate\n",
            "\n",
            "\n",
            "CommandNotFoundError: Your shell has not been properly configured to use 'conda activate'.\n",
            "To initialize your shell, run\n",
            "\n",
            "    $ conda init <SHELL_NAME>\n",
            "\n",
            "Currently supported shells are:\n",
            "  - bash\n",
            "  - fish\n",
            "  - tcsh\n",
            "  - xonsh\n",
            "  - zsh\n",
            "  - powershell\n",
            "\n",
            "See 'conda init --help' for more information and options.\n",
            "\n",
            "IMPORTANT: You may need to close and restart your shell after running 'conda init'.\n",
            "\n",
            "\n",
            "Requirement already satisfied: chatterbot==1.0.4 in /usr/local/lib/python3.10/site-packages (1.0.4)\n",
            "Requirement already satisfied: nltk<4.0,>=3.2 in /usr/local/lib/python3.10/site-packages (from chatterbot==1.0.4) (3.8.1)\n",
            "Requirement already satisfied: python-dateutil<2.8,>=2.7 in /usr/local/lib/python3.10/site-packages (from chatterbot==1.0.4) (2.7.5)\n",
            "Requirement already satisfied: chatterbot-corpus<1.3,>=1.2 in /usr/local/lib/python3.10/site-packages (from chatterbot==1.0.4) (1.2.0)\n",
            "Requirement already satisfied: sqlalchemy<1.3,>=1.2 in /usr/local/lib/python3.10/site-packages (from chatterbot==1.0.4) (1.2.19)\n",
            "Requirement already satisfied: pymongo<4.0,>=3.3 in /usr/local/lib/python3.10/site-packages (from chatterbot==1.0.4) (3.13.0)\n",
            "Requirement already satisfied: mathparse<0.2,>=0.1 in /usr/local/lib/python3.10/site-packages (from chatterbot==1.0.4) (0.1.2)\n",
            "Requirement already satisfied: pint>=0.8.1 in /usr/local/lib/python3.10/site-packages (from chatterbot==1.0.4) (0.23)\n",
            "Requirement already satisfied: PyYAML<4.0,>=3.12 in /usr/local/lib/python3.10/site-packages (from chatterbot-corpus<1.3,>=1.2->chatterbot==1.0.4) (3.12)\n",
            "Requirement already satisfied: regex>=2021.8.3 in /usr/local/lib/python3.10/site-packages (from nltk<4.0,>=3.2->chatterbot==1.0.4) (2023.12.25)\n",
            "Requirement already satisfied: click in /usr/local/lib/python3.10/site-packages (from nltk<4.0,>=3.2->chatterbot==1.0.4) (8.1.7)\n",
            "Requirement already satisfied: joblib in /usr/local/lib/python3.10/site-packages (from nltk<4.0,>=3.2->chatterbot==1.0.4) (1.3.2)\n",
            "Requirement already satisfied: tqdm in /usr/local/lib/python3.10/site-packages (from nltk<4.0,>=3.2->chatterbot==1.0.4) (4.65.0)\n",
            "Requirement already satisfied: typing-extensions in /usr/local/lib/python3.10/site-packages (from pint>=0.8.1->chatterbot==1.0.4) (4.9.0)\n",
            "Requirement already satisfied: six>=1.5 in /usr/local/lib/python3.10/site-packages (from python-dateutil<2.8,>=2.7->chatterbot==1.0.4) (1.16.0)\n",
            "\u001b[33mWARNING: Running pip as the 'root' user can result in broken permissions and conflicting behaviour with the system package manager. It is recommended to use a virtual environment instead: https://pip.pypa.io/warnings/venv\u001b[0m\u001b[33m\n",
            "\u001b[0mRequirement already satisfied: PyYaml==3.12 in /usr/local/lib/python3.10/site-packages (3.12)\n",
            "\u001b[33mWARNING: Running pip as the 'root' user can result in broken permissions and conflicting behaviour with the system package manager. It is recommended to use a virtual environment instead: https://pip.pypa.io/warnings/venv\u001b[0m\u001b[33m\n",
            "Training conversations.yml: [##############      ] 72%"
          ]
        },
        {
          "output_type": "stream",
          "name": "stderr",
          "text": [
            "[nltk_data] Downloading package averaged_perceptron_tagger to\n",
            "[nltk_data]     /root/nltk_data...\n",
            "[nltk_data]   Package averaged_perceptron_tagger is already up-to-\n",
            "[nltk_data]       date!\n",
            "[nltk_data] Downloading package punkt to /root/nltk_data...\n",
            "[nltk_data]   Package punkt is already up-to-date!\n",
            "[nltk_data] Downloading package stopwords to /root/nltk_data...\n",
            "[nltk_data]   Package stopwords is already up-to-date!\n"
          ]
        },
        {
          "output_type": "stream",
          "name": "stdout",
          "text": [
            "Training conversations.yml: [####################] 100%\n",
            "Training greetings.yml: [####################] 100%\n",
            "Training health.yml: [####################] 100%\n",
            "Training sports.yml: [####################] 100%\n",
            "Training humor.yml: [####################] 100%\n",
            "Para salir, escribe \"Goodbye\" o \"Adiós\".\n",
            "What do you want to say to the ChatBot?\tHi\n",
            "¿Qué pasa?\n",
            "Para salir, escribe \"Goodbye\" o \"Adiós\".\n",
            "What do you want to say to the ChatBot?\tWhat's up\n",
            "Hola, ¿cómo estás?\n",
            "Para salir, escribe \"Goodbye\" o \"Adiós\".\n",
            "What do you want to say to the ChatBot?\tHow are things going for you?\n",
            "¿Puedo ayudarte en algo?\n",
            "Para salir, escribe \"Goodbye\" o \"Adiós\".\n",
            "What do you want to say to the ChatBot?\tWhat food do you like?\n",
            "The sky's up but I'm fine thanks. What about you?\n",
            "Para salir, escribe \"Goodbye\" o \"Adiós\".\n",
            "What do you want to say to the ChatBot?\tgoodbye\n",
            "Goodbye! Good luck on studying!\n",
            "¡Adiós! ¡Buena suerte por estudiar!\n",
            "Escoge una opción por favor:\n",
            "                            (1) Quiero usar un diccionario.\n",
            "                            (2) Quiero aprender vocabulario.\n",
            "                            (3) Quiero practicar.\n",
            "                            (4) Salir\n",
            "4\n",
            "Goodbye! Good luck on studying!\n",
            "¡Adiós! ¡Buena suerte por estudiar!\n"
          ]
        }
      ]
    },
    {
      "cell_type": "code",
      "source": [
        "# to see how the vocabulary function doesn't quite function:\n",
        "main()"
      ],
      "metadata": {
        "colab": {
          "base_uri": "https://localhost:8080/",
          "height": 685
        },
        "id": "_xIENMECudSL",
        "outputId": "d1bc2246-19c9-410d-92bc-77ced6189f76"
      },
      "execution_count": 19,
      "outputs": [
        {
          "name": "stdout",
          "output_type": "stream",
          "text": [
            "Please choose an option:\n",
            "                        (1) I speak English, and I want to learn Spanish.\n",
            "                        (2) Hablo español y quiero aprender inglés.\n",
            "1\n",
            "Please choose a mode:\n",
            "                            (1) Dictionary Mode\n",
            "                            (2) Learning Mode\n",
            "                            (3) Practice Mode\n",
            "                            (4) Quit\n",
            "2\n",
            "What subject would you like to learn?:\n",
            "                            (1) Colors\n",
            "                            (2) Days of the Week\n",
            "                            (3) Months of the Year\n",
            "                            (4) Basic Verbs\n",
            "                            (5) Family\n",
            "                            (6) Seasons\n",
            "                            (7) Travel\n",
            "5\n"
          ]
        },
        {
          "output_type": "error",
          "ename": "IndexError",
          "evalue": "ignored",
          "traceback": [
            "\u001b[0;31m---------------------------------------------------------------------------\u001b[0m",
            "\u001b[0;31mIndexError\u001b[0m                                Traceback (most recent call last)",
            "\u001b[0;32m<ipython-input-19-af785f2a17b9>\u001b[0m in \u001b[0;36m<cell line: 2>\u001b[0;34m()\u001b[0m\n\u001b[1;32m      1\u001b[0m \u001b[0;31m# to see how the vocabulary function doesn't quite function:\u001b[0m\u001b[0;34m\u001b[0m\u001b[0;34m\u001b[0m\u001b[0m\n\u001b[0;32m----> 2\u001b[0;31m \u001b[0mmain\u001b[0m\u001b[0;34m(\u001b[0m\u001b[0;34m)\u001b[0m\u001b[0;34m\u001b[0m\u001b[0;34m\u001b[0m\u001b[0m\n\u001b[0m",
            "\u001b[0;32m<ipython-input-16-33c699ea8ed9>\u001b[0m in \u001b[0;36mmain\u001b[0;34m()\u001b[0m\n\u001b[1;32m     10\u001b[0m       \u001b[0mdictionary_mode\u001b[0m\u001b[0;34m(\u001b[0m\u001b[0mnative\u001b[0m\u001b[0;34m)\u001b[0m\u001b[0;34m\u001b[0m\u001b[0;34m\u001b[0m\u001b[0m\n\u001b[1;32m     11\u001b[0m     \u001b[0;32melif\u001b[0m \u001b[0mmode\u001b[0m \u001b[0;34m==\u001b[0m \u001b[0;36m2\u001b[0m\u001b[0;34m:\u001b[0m\u001b[0;34m\u001b[0m\u001b[0;34m\u001b[0m\u001b[0m\n\u001b[0;32m---> 12\u001b[0;31m       \u001b[0mlearn\u001b[0m\u001b[0;34m(\u001b[0m\u001b[0mnative\u001b[0m\u001b[0;34m,\u001b[0m \u001b[0mtarget\u001b[0m\u001b[0;34m,\u001b[0m \u001b[0mlearning_category\u001b[0m\u001b[0;34m(\u001b[0m\u001b[0mnative\u001b[0m\u001b[0;34m)\u001b[0m\u001b[0;34m)\u001b[0m\u001b[0;34m\u001b[0m\u001b[0;34m\u001b[0m\u001b[0m\n\u001b[0m\u001b[1;32m     13\u001b[0m     \u001b[0;32melif\u001b[0m \u001b[0mmode\u001b[0m \u001b[0;34m==\u001b[0m \u001b[0;36m3\u001b[0m\u001b[0;34m:\u001b[0m\u001b[0;34m\u001b[0m\u001b[0;34m\u001b[0m\u001b[0m\n\u001b[1;32m     14\u001b[0m       \u001b[0;32mif\u001b[0m \u001b[0;32mnot\u001b[0m \u001b[0mtyped_three_before\u001b[0m\u001b[0;34m:\u001b[0m\u001b[0;34m\u001b[0m\u001b[0;34m\u001b[0m\u001b[0m\n",
            "\u001b[0;32m<ipython-input-13-508b0daeecac>\u001b[0m in \u001b[0;36mlearn\u001b[0;34m(native, target, choice)\u001b[0m\n\u001b[1;32m     22\u001b[0m           \u001b[0mpt_ranks\u001b[0m\u001b[0;34m.\u001b[0m\u001b[0mappend\u001b[0m\u001b[0;34m(\u001b[0m\u001b[0mj\u001b[0m\u001b[0;34m)\u001b[0m\u001b[0;34m\u001b[0m\u001b[0;34m\u001b[0m\u001b[0m\n\u001b[1;32m     23\u001b[0m     \u001b[0;32mif\u001b[0m \u001b[0mlen\u001b[0m\u001b[0;34m(\u001b[0m\u001b[0mpt_ranks\u001b[0m\u001b[0;34m)\u001b[0m \u001b[0;34m==\u001b[0m \u001b[0;36m0\u001b[0m\u001b[0;34m:\u001b[0m\u001b[0;34m\u001b[0m\u001b[0;34m\u001b[0m\u001b[0m\n\u001b[0;32m---> 24\u001b[0;31m       \u001b[0mbest_match\u001b[0m \u001b[0;34m=\u001b[0m \u001b[0mposs_transls\u001b[0m\u001b[0;34m[\u001b[0m\u001b[0;36m0\u001b[0m\u001b[0;34m]\u001b[0m\u001b[0;34m\u001b[0m\u001b[0;34m\u001b[0m\u001b[0m\n\u001b[0m\u001b[1;32m     25\u001b[0m     \u001b[0;32melse\u001b[0m\u001b[0;34m:\u001b[0m\u001b[0;34m\u001b[0m\u001b[0;34m\u001b[0m\u001b[0m\n\u001b[1;32m     26\u001b[0m       \u001b[0mbest_match\u001b[0m \u001b[0;34m=\u001b[0m \u001b[0mposs_transls\u001b[0m\u001b[0;34m[\u001b[0m\u001b[0mpt_ranks\u001b[0m\u001b[0;34m.\u001b[0m\u001b[0mindex\u001b[0m\u001b[0;34m(\u001b[0m\u001b[0mmin\u001b[0m\u001b[0;34m(\u001b[0m\u001b[0mpt_ranks\u001b[0m\u001b[0;34m)\u001b[0m\u001b[0;34m)\u001b[0m\u001b[0;34m]\u001b[0m\u001b[0;34m\u001b[0m\u001b[0;34m\u001b[0m\u001b[0m\n",
            "\u001b[0;31mIndexError\u001b[0m: list index out of range"
          ]
        }
      ]
    }
  ],
  "metadata": {
    "kernelspec": {
      "display_name": "Python 3",
      "language": "python",
      "name": "python3"
    },
    "language_info": {
      "codemirror_mode": {
        "name": "ipython",
        "version": 3
      },
      "file_extension": ".py",
      "mimetype": "text/x-python",
      "name": "python",
      "nbconvert_exporter": "python",
      "pygments_lexer": "ipython3",
      "version": "3.8.5"
    },
    "colab": {
      "provenance": []
    }
  },
  "nbformat": 4,
  "nbformat_minor": 0
}